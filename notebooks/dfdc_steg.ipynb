{
 "cells": [
  {
   "cell_type": "code",
   "execution_count": null,
   "id": "c2e1e423-bfe9-4d46-bd7c-b1dedcf77aed",
   "metadata": {},
   "outputs": [],
   "source": [
    "import numpy as np\n",
    "import torch\n",
    "import matplotlib.pyplot as plt\n",
    "import seaborn as sns\n",
    "from dfdetect.data_loaders import DFDC_preprocessed\n",
    "from tqdm.auto import tqdm"
   ]
  },
  {
   "cell_type": "code",
   "execution_count": null,
   "id": "b080bc41-d6f2-4e98-b557-5c30231b7d13",
   "metadata": {},
   "outputs": [],
   "source": [
    "%load_ext autoreload\n",
    "%autoreload 2\n",
    "sns.set()"
   ]
  },
  {
   "cell_type": "code",
   "execution_count": null,
   "id": "f182ea80-4ff7-4415-99ec-284e137c1e45",
   "metadata": {},
   "outputs": [],
   "source": [
    "data = DFDC_preprocessed(\"./dfdc_preprocessed\")"
   ]
  },
  {
   "cell_type": "code",
   "execution_count": null,
   "id": "3c62e47e-fd2c-4096-8f43-848f709bd2f7",
   "metadata": {},
   "outputs": [],
   "source": [
    "vid_0, lab_0 = data[0]\n",
    "vid_0.shape"
   ]
  },
  {
   "cell_type": "code",
   "execution_count": null,
   "id": "3317b015-ac61-48e9-bcea-104b5baace34",
   "metadata": {},
   "outputs": [],
   "source": [
    "from torchvision import transforms\n",
    "from dfdetect.data_loaders import DFDC_preprocessed\n",
    "from dfdetect.utils import CropResize, FrameBasedTransforms, rgb_to_ycc\n",
    "\n",
    "all_transforms = FrameBasedTransforms(\n",
    "    transforms.Compose(\n",
    "        [\n",
    "            CropResize(128),\n",
    "            rgb_to_ycc,\n",
    "            transforms.ToTensor(),\n",
    "            transforms.ConvertImageDtype(torch.float),\n",
    "            # transforms.Normalize(mean=[0.485, 0.456, 0.406], std=[0.229, 0.224, 0.225]),\n",
    "        ]\n",
    "    )\n",
    ")\n",
    "all_transforms = transforms.Compose([all_transforms])"
   ]
  },
  {
   "cell_type": "code",
   "execution_count": null,
   "id": "ecbcfea5-f09b-4446-aef7-051b9ef9cdc4",
   "metadata": {},
   "outputs": [],
   "source": [
    "vid_0_transformed = all_transforms(vid_0)\n",
    "vid_0_transformed.shape"
   ]
  },
  {
   "cell_type": "code",
   "execution_count": null,
   "id": "56c39918-9148-471c-b04e-d78a84123397",
   "metadata": {
    "tags": []
   },
   "outputs": [],
   "source": [
    "# YCbCr components\n",
    "fig, axs = plt.subplots(1, 3, figsize=(12, 4))\n",
    "for i in range(3):\n",
    "    axs[i].imshow(vid_0_transformed[0, i], cmap=\"gray\")"
   ]
  },
  {
   "cell_type": "code",
   "execution_count": null,
   "id": "79f90406-654f-4ca3-b278-485b02972fbc",
   "metadata": {},
   "outputs": [],
   "source": [
    "from numpy import r_\n",
    "import scipy\n",
    "import scipy.fftpack\n",
    "\n",
    "\n",
    "def block_dct(frame):\n",
    "    for component in frame:\n",
    "\n",
    "        # Block DCT from https://inst.eecs.berkeley.edu/~ee123/sp16/Sections/JPEG_DCT_Demo.html\n",
    "        imsize = frame.shape\n",
    "        dct = np.zeros(imsize)\n",
    "\n",
    "        def dct2(a):\n",
    "            return scipy.fftpack.dct(\n",
    "                scipy.fftpack.dct(a, axis=0, norm=\"ortho\"), axis=1, norm=\"ortho\"\n",
    "            )\n",
    "\n",
    "        def idct2(a):\n",
    "            return scipy.fftpack.idct(\n",
    "                scipy.fftpack.idct(a, axis=0, norm=\"ortho\"), axis=1, norm=\"ortho\"\n",
    "            )\n",
    "\n",
    "        # Do 8x8 DCT on image (in-place)\n",
    "        for i in r_[: imsize[0] : 8]:\n",
    "            for j in r_[: imsize[1] : 8]:\n",
    "                dct[i : (i + 8), j : (j + 8)] = dct2(im[i : (i + 8), j : (j + 8)])"
   ]
  },
  {
   "cell_type": "code",
   "execution_count": null,
   "id": "7946a8de-2b0d-40a0-b9eb-f4b1b07690a0",
   "metadata": {},
   "outputs": [],
   "source": [
    "def dct2(a):\n",
    "    return scipy.fftpack.dct(\n",
    "        scipy.fftpack.dct(a, axis=0, norm=\"ortho\"), axis=1, norm=\"ortho\"\n",
    "    )\n",
    "\n",
    "\n",
    "from dfdetect.utils import dct_2d as dct2_torch"
   ]
  },
  {
   "cell_type": "code",
   "execution_count": null,
   "id": "12a641b7-7bde-423a-b912-243222b33508",
   "metadata": {},
   "outputs": [],
   "source": [
    "dct_with_torch = dct2_torch(vid_0_transformed[0], norm=\"ortho\")"
   ]
  },
  {
   "cell_type": "code",
   "execution_count": null,
   "id": "25353734-380b-4308-93f9-bdec8933333e",
   "metadata": {},
   "outputs": [],
   "source": [
    "dct_with_scipy = np.stack(\n",
    "    [dct2(vid_0_transformed[0, i].numpy()) for i in range(3)], axis=0\n",
    ")"
   ]
  },
  {
   "cell_type": "code",
   "execution_count": null,
   "id": "d55e4458-f182-4165-b338-a41dbbc13c5d",
   "metadata": {},
   "outputs": [],
   "source": [
    "dct_with_scipy.shape"
   ]
  },
  {
   "cell_type": "code",
   "execution_count": null,
   "id": "8fcea894-90e6-4b9e-a9f5-3c5b67b3ef4a",
   "metadata": {},
   "outputs": [],
   "source": [
    "np.isclose(\n",
    "    dct_with_torch.numpy(), dct_with_scipy, atol=1e-6\n",
    ").mean()  # Confirming that dct with torch and scipy is similar"
   ]
  },
  {
   "cell_type": "code",
   "execution_count": null,
   "id": "7b2ceb55-b6e9-4e8e-b954-af086e100774",
   "metadata": {},
   "outputs": [],
   "source": [
    "from einops import rearrange\n",
    "\n",
    "frame = vid_0_transformed[0]\n",
    "# frame = torch.zeros(3, 512, 512)\n",
    "dct_patch_size = 8\n",
    "patchs = rearrange(\n",
    "    frame, \"c (h p1) (w p2) -> c h w p1 p2\", p1=dct_patch_size, p2=dct_patch_size\n",
    ")\n",
    "patchs_dct = dct2_torch(patchs)\n",
    "patchs = rearrange(\n",
    "    patchs_dct, \"c h w p1 p2 -> (c p1 p2) h w\", p1=dct_patch_size, p2=dct_patch_size\n",
    ")"
   ]
  },
  {
   "cell_type": "code",
   "execution_count": null,
   "id": "1ac88723-cf78-45aa-8b7c-b26d29e46158",
   "metadata": {},
   "outputs": [],
   "source": [
    "patchs.shape"
   ]
  },
  {
   "cell_type": "code",
   "execution_count": null,
   "id": "0ee8ff02-172f-4d24-be38-b7e34896c47b",
   "metadata": {},
   "outputs": [],
   "source": []
  }
 ],
 "metadata": {
  "kernelspec": {
   "display_name": "Python 3.8.12 ('pyenv')",
   "language": "python",
   "name": "python3"
  },
  "language_info": {
   "codemirror_mode": {
    "name": "ipython",
    "version": 3
   },
   "file_extension": ".py",
   "mimetype": "text/x-python",
   "name": "python",
   "nbconvert_exporter": "python",
   "pygments_lexer": "ipython3",
   "version": "3.8.12"
  },
  "vscode": {
   "interpreter": {
    "hash": "9ec2b302a3623fafbdb4cbc01e9dd40c3cc226b6824da46d014e8d7143635447"
   }
  }
 },
 "nbformat": 4,
 "nbformat_minor": 5
}
